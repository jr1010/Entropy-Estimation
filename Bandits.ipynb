{
 "cells": [
  {
   "cell_type": "markdown",
   "id": "5e59b496-1ea8-40fd-a082-5614ff7f078a",
   "metadata": {},
   "source": [
    "# Bandit Experiments"
   ]
  },
  {
   "cell_type": "code",
   "execution_count": null,
   "id": "28e11723-9eb6-47f2-9043-5157bd3a0372",
   "metadata": {},
   "outputs": [],
   "source": [
    "from qiskit import QuantumCircuit, QuantumRegister, ClassicalRegister\n",
    "from qiskit.primitives import Sampler\n",
    "from qiskit_aer import AerSimulator\n",
    "from qiskit.transpiler.preset_passmanagers import generate_preset_pass_manager\n",
    "from qiskit.quantum_info import Statevector\n",
    "from qiskit.circuit.classical import expr\n",
    "from qiskit_ibm_runtime.fake_provider import FakeManilaV2, FakePerth\n",
    "from qiskit_ibm_runtime import SamplerV2\n",
    "from qiskit import transpile\n",
    "from qiskit.visualization import plot_histogram, plot_error_map, plot_distribution\n",
    "from qiskit.result.mitigation import base_readout_mitigator\n",
    "\n",
    "import numpy as np\n",
    "import matplotlib.pyplot as plt\n",
    "%matplotlib inline\n",
    "%config InlineBackend.figure_format = 'svg'\n",
    "\n",
    "import seaborn as sns\n",
    "sns.set_style('dark')"
   ]
  },
  {
   "cell_type": "code",
   "execution_count": null,
   "id": "bf31c742-566d-4ffe-ad96-02bd661e10b3",
   "metadata": {},
   "outputs": [],
   "source": [
    "# HELPER FUNCTIONS\n",
    "\n",
    "def generate_random_states(n=1000):\n",
    "    random_list = [np.random.uniform(size=n)*pow(1j, (i%2)) for i in range(8)]\n",
    "    random_state = []\n",
    "    for i in range(0, 8, 2):\n",
    "        random_state.append(random_list[i] + random_list[i+1])\n",
    "    random_state = np.array(random_state).T\n",
    "    for idx, row in enumerate(random_state):\n",
    "        # row /= np.sum(np.abs(row))\n",
    "        row /= np.sqrt(pow(np.abs(row), 2).sum())\n",
    "\n",
    "    return random_state\n",
    "\n",
    "def generate_product_states(n=1000):\n",
    "    theta1 = np.random.uniform(0, 2*np.pi, size=n)\n",
    "    theta2 = np.random.uniform(0, 2*np.pi, size=n)\n",
    "    phi1 = np.random.uniform(0, np.pi, size=n)\n",
    "    phi2 = np.random.uniform(0, np.pi, size=n)\n",
    "    random_state = [np.cos(theta1)*np.cos(theta2), np.cos(theta1)*np.exp(1j*phi2)*np.sin(theta2), np.exp(1j*phi1)*np.sin(theta1)*np.cos(theta2), np.exp(1j*(phi1+phi2))*np.sin(theta1)*np.sin(theta2)]\n",
    "    return np.array(random_state).T\n",
    "\n",
    "def get_k(state):\n",
    "    a, b, c, d = state\n",
    "    r = np.abs(a*d-b*c).item()**2\n",
    "    if r < 1e-30:\n",
    "        return 0\n",
    "    return r\n",
    "\n",
    "def post_process_bitstrings(bitstrings):\n",
    "    res = np.zeros(len(bitstrings))\n",
    "    for idx, bitstr in enumerate(bitstrings):\n",
    "        if bitstr in ['1 0 0 1', '1001', '0 0 1 1', '0011']:\n",
    "            res[idx] = 1\n",
    "    return res\n",
    "\n",
    "def von_neuman_from_beta(beta):\n",
    "    t = np.sqrt(1-4*beta)\n",
    "    eigs = [0.5*(1+t), 0.5*(1-t)]\n",
    "    s = 0\n",
    "    for eig in eigs:\n",
    "        if eig!=0 or eig!=1:\n",
    "            s += -eig*np.log2(eig)\n",
    "\n",
    "    return s"
   ]
  },
  {
   "cell_type": "code",
   "execution_count": null,
   "id": "b2984694-dca4-4e98-8ab6-74c75efd0e08",
   "metadata": {},
   "outputs": [],
   "source": [
    "np.random.seed(20)\n",
    "\n",
    "k = generate_random_states(1000)\n",
    "w = generate_product_states(1000)"
   ]
  },
  {
   "cell_type": "markdown",
   "id": "5675568d-b76c-4cf5-8211-24a1e6849708",
   "metadata": {},
   "source": [
    "### LOCC Circuit Builder"
   ]
  },
  {
   "cell_type": "code",
   "execution_count": null,
   "id": "cc7c78b4-423e-4d4d-8062-0c4426cae26b",
   "metadata": {},
   "outputs": [],
   "source": [
    "def build_locc_circuit(initial_state):\n",
    "    c1 = ClassicalRegister(1)\n",
    "    c2 = ClassicalRegister(1)\n",
    "    c3 = ClassicalRegister(1)\n",
    "    c4 = ClassicalRegister(1)\n",
    "    # cbits = ClassicalRegister(4, 'meas')\n",
    "    qbits = QuantumRegister(4)\n",
    "    \n",
    "    qc = QuantumCircuit(qbits, c1, c2, c3, c4)\n",
    "    \n",
    "    initial_state = Statevector(initial_state)\n",
    "    tensor_state = initial_state^initial_state\n",
    "    qc.initialize(tensor_state) # to initialize with any state\n",
    "    \n",
    "    # qc.x(0)\n",
    "    # # qc.x(1)\n",
    "    # qc.x(2)\n",
    "    # # qc.x(3)\n",
    "    \n",
    "    qc.barrier()\n",
    "    qc.measure(1, 1)\n",
    "    qc.measure(3, 3)\n",
    "    qc.barrier()\n",
    "    # qc.cx(0, 2)\n",
    "    # qc.cx(0, 2)\n",
    "    \n",
    "    with qc.if_test(expr.equal(expr.bit_xor(c2, c4), 1)):\n",
    "        # qc.x(0)\n",
    "        qc.cx(0, 2)\n",
    "        qc.cx(2, 0)\n",
    "        # qc.ry(np.pi/4, 1)   #\n",
    "        # qc.ccx(3, 2, 1)     # (For cch gate)   \n",
    "        # qc.ry(-np.pi/4, 1)  #\n",
    "        qc.cz(2, 0)\n",
    "        qc.ch(2, 0)\n",
    "        qc.cx(2, 0)\n",
    "        qc.cx(0, 2)\n",
    "        \n",
    "    # qc.cx(0, 2)\n",
    "    qc.barrier()\n",
    "    # qc.measure(0, 0)\n",
    "    qc.measure(0, 0)\n",
    "    # qc.measure(2, 2)\n",
    "    qc.measure(2, 2)\n",
    "\n",
    "    return qc"
   ]
  },
  {
   "cell_type": "markdown",
   "id": "ca6726dc-004e-4d13-9c8f-139e3d3a68b7",
   "metadata": {},
   "source": [
    "## (m, K) Multi-armed bandits problem\n",
    "\n",
    "We have **K** arms out of which **m** have distillable entanglement greater than some threshold $\\beta$. We implement the *lil-HDoC* algorithm the address the Threshold Bandit Problem (TBP).\n",
    "\n",
    "We generate random states by sampling the complex coefficients from a uniform distribution and then renormalizaing it"
   ]
  },
  {
   "cell_type": "code",
   "execution_count": null,
   "id": "f728c4d4-5602-4eb2-89b4-f5fa0830e5e9",
   "metadata": {},
   "outputs": [],
   "source": [
    "np.random.seed(80) # For 5 arms\n",
    "# np.random.seed(100) # For 7 arms\n",
    "\n",
    "n_arms = 5\n",
    "random_ids = np.random.choice(range(len(k)), size=n_arms)"
   ]
  },
  {
   "cell_type": "code",
   "execution_count": null,
   "id": "e02dbdae-3a99-4666-b7c0-bd64f202049b",
   "metadata": {},
   "outputs": [],
   "source": [
    "arms = k[random_ids]"
   ]
  },
  {
   "cell_type": "code",
   "execution_count": null,
   "id": "3528fe57-06c1-4418-9d00-aea0ba967d2a",
   "metadata": {},
   "outputs": [],
   "source": [
    "print(arms)"
   ]
  },
  {
   "cell_type": "code",
   "execution_count": null,
   "id": "d6a83976-2663-436b-9be9-3a70682e8e82",
   "metadata": {},
   "outputs": [],
   "source": [
    "val = np.array([get_k(arm) for arm in arms])\n",
    "print(\"The Values of beta are : \", val)\n",
    "print(\"Average Value of beta : \", np.mean(val))\n",
    "print(\"Standard Deviation of beta : \", np.std(val))"
   ]
  },
  {
   "cell_type": "code",
   "execution_count": null,
   "id": "9c28345c-b37c-4d35-b7c0-3138df372553",
   "metadata": {},
   "outputs": [],
   "source": [
    "arms_idx = set(list(range(len(arms))))"
   ]
  },
  {
   "cell_type": "code",
   "execution_count": null,
   "id": "047b6486-37ac-419a-995c-90fabc5c857a",
   "metadata": {},
   "outputs": [],
   "source": [
    "start = time.time()\n",
    "n = 1000000\n",
    "bitstrings = []\n",
    "aer_sim = AerSimulator()\n",
    "\n",
    "for idx, arm in enumerate(arms):\n",
    "    circuit = build_locc_circuit(arm)\n",
    "    pm = generate_preset_pass_manager(backend=aer_sim, optimization_level=1, seed_transpiler=20)\n",
    "    isa_qc = pm.run(circuit)\n",
    "    job = aer_sim.run([isa_qc], shots=n, seed_simulator=20, memory=True)\n",
    "    result = job.result()\n",
    "    bitstrs = result.get_memory()\n",
    "    bitstrings.append(post_process_bitstrings(bitstrs))\n",
    "\n",
    "bitstrings = np.array(bitstrings).T\n",
    "\n",
    "end = time.time()\n",
    "print(end-start)"
   ]
  },
  {
   "cell_type": "markdown",
   "id": "2e33fbfe-aa5e-456c-8570-60efc228c4b3",
   "metadata": {},
   "source": [
    "#### Threshold Bandit Problem (TBP)"
   ]
  },
  {
   "cell_type": "code",
   "execution_count": null,
   "id": "e3fc987b-3661-40f2-8aa6-64b9b01067e5",
   "metadata": {},
   "outputs": [],
   "source": [
    "def U_bound(eps, t, w):\n",
    "    return (1+np.sqrt(eps))*np.sqrt(2*(1/4)*(1+eps)*np.log(np.log((1+eps)*t)/w)/t)\n",
    "\n",
    "def lilHDoC(bitstrings, n_arms,  arms_idx, error_prob=0.01, threshold=0.02, bound_method='lil'):\n",
    "    np.random.seed(20)\n",
    "    estimated_mean = np.zeros(n_arms)\n",
    "    iter_idx = np.zeros(n_arms).astype(int)\n",
    "    max_iters = 10000000\n",
    "    prev_arm = None\n",
    "    good_arms = []\n",
    "    bad_arms = []\n",
    "\n",
    "    # Params\n",
    "    b = n_arms + 1\n",
    "    c = max(1/error_prob, np.e)\n",
    "    eps = np.linspace(0, 1, endpoint=True, num=1000000)\n",
    "    r = (1+np.sqrt(eps))**2*(1+eps)\n",
    "    eps_prime = eps[np.argmax(r[r<=1+min(np.log(np.log(b))/np.log(b), np.log(np.log(c))/np.log(c))])]\n",
    "    # print(f\"Eps Prime : {eps_prime}\")\n",
    "    r = (1+np.sqrt(eps_prime))**2*(1+eps_prime)\n",
    "    # print(f\"R : {r}\")\n",
    "\n",
    "    c_eps = (2 + eps_prime)/eps_prime * pow(1/np.log(1 + eps_prime), 1 + eps_prime)\n",
    "    # print(f\"C_Eps : {c_eps}\")\n",
    "    thres = 0.25*(pow(n_arms/error_prob, r-1)*pow(c_eps, r))\n",
    "    # print(f'Thres : {thres}')\n",
    "    \n",
    "    # Binary Search for T\n",
    "    for t in range(1, 100000):\n",
    "        if t*t/pow(np.log((1+eps_prime)*t), r) >= thres:\n",
    "            T = t\n",
    "            # print(f\"T : {T}\")\n",
    "            break\n",
    "\n",
    "    delta = abs(val - threshold)\n",
    "    up_lim = 2*((1+eps_prime)*(1+np.sqrt(eps_prime))**2)/(delta*delta)*np.log(2*c_eps*n_arms*np.log(2*c_eps*n_arms*pow((1+np.sqrt(eps_prime))*(1+eps_prime), 2)/(error_prob*delta*delta))/error_prob)\n",
    "    \n",
    "    for idx in arms_idx:\n",
    "        estimated_mean = np.mean(bitstrings[:T, :], axis=0)\n",
    "        iter_idx = np.ones(n_arms, dtype=int)*(T)\n",
    "\n",
    "    iteration = n_arms*T + 1\n",
    "    while len(arms_idx) > 0 and iteration < max_iters:\n",
    "        # if iteration % 100000 == 0:\n",
    "            # print(f'Iteration : {iteration}, Good Arms : {good_arms}, Bad Arms : {bad_arms}, Iters : {iter_idx}', end='\\r')\n",
    "        \n",
    "        ids = list(arms_idx)\n",
    "        u_t = np.sqrt(np.log(iteration)/(2*iter_idx[ids]))\n",
    "        # arm = ids[np.argmax(estimated_mean[ids] + u_t)]\n",
    "        b = estimated_mean[ids] + u_t\n",
    "        arm = ids[np.random.choice(np.where(b == b.max())[0])]\n",
    "\n",
    "        # Pulling arm\n",
    "        # print(iter_idx[arm], arm)\n",
    "        sample = bitstrings[iter_idx[arm], arm]\n",
    "        estimated_mean[arm] = (estimated_mean[arm]*iter_idx[arm] + sample)/(iter_idx[arm] + 1)\n",
    "        iter_idx[arm] += 1\n",
    "\n",
    "        # Elimination\n",
    "        if bound_method =='lil':\n",
    "            bound = U_bound(eps_prime, iter_idx[arm], error_prob/(c_eps*n_arms))\n",
    "        else:\n",
    "            bound = np.sqrt(np.log(1/error_prob)/(2*(iter_idx[arm]+1)))\n",
    "\n",
    "        if estimated_mean[arm] - bound >= threshold:\n",
    "            good_arms.append(arm)\n",
    "            arms_idx.remove(arm)\n",
    "        elif estimated_mean[arm] + bound < threshold:\n",
    "            bad_arms.append(arm)\n",
    "            arms_idx.remove(arm)\n",
    "\n",
    "        iteration += 1\n",
    "\n",
    "    return good_arms, bad_arms, iteration, T, np.sum(up_lim)"
   ]
  },
  {
   "cell_type": "code",
   "execution_count": null,
   "id": "6f7311d3-b3fa-4f8f-a482-ea47e4fa405b",
   "metadata": {},
   "outputs": [],
   "source": [
    "good, bad, stop, T = lilHDoC(bitstrings, len(arms_idx), arms_idx.copy(), error_prob=0.001, threshold=0.05)"
   ]
  },
  {
   "cell_type": "code",
   "execution_count": null,
   "id": "39bd109f-60a7-4ea1-add9-c23f717f31bd",
   "metadata": {},
   "outputs": [],
   "source": [
    "print(\"GOOD ARMS     : \", val[good])\n",
    "print(\"BAD ARMS      : \", val[bad])\n",
    "print(\"STOPPING TIME : \", stop)"
   ]
  },
  {
   "cell_type": "markdown",
   "id": "fb4dfdda-7c37-4e74-94cf-fc8aae959963",
   "metadata": {},
   "source": [
    "#### Relationship b/w Stopping Time and Confidence $\\delta$\n",
    "\n",
    "The experiments are ensembled over 10 runs"
   ]
  },
  {
   "cell_type": "code",
   "execution_count": null,
   "id": "c365f5a4-2ebf-4093-b1a1-0877e3a53a04",
   "metadata": {},
   "outputs": [],
   "source": [
    "conf = np.logspace(-3, -1, endpoint=True, num=10)\n",
    "stopping_times_1 = []\n",
    "\n",
    "n = 10000000\n",
    "bitstrings = []\n",
    "aer_sim = AerSimulator()\n",
    "\n",
    "for idx, arm in enumerate(arms):\n",
    "    circuit = build_locc_circuit(arm)\n",
    "    pm = generate_preset_pass_manager(backend=aer_sim, optimization_level=1, seed_transpiler=20)\n",
    "    isa_qc = pm.run(circuit)\n",
    "    job = aer_sim.run([isa_qc], shots=n, seed_simulator=20, memory=True)\n",
    "    result = job.result()\n",
    "    bitstrs = result.get_memory()\n",
    "    bitstrings.append(post_process_bitstrings(bitstrs))\n",
    "\n",
    "bitstrings = np.array(bitstrings).T\n",
    "\n",
    "start = time.time()\n",
    "for i in range(10):\n",
    "    u_lims = []\n",
    "    stops = []\n",
    "    for c in conf:\n",
    "        print(f\"Iteration : {i+1}, Confidence : {c}\", end='\\r')\n",
    "        good, bad, stop, T, u_lim = lilHDoC(bitstrings[i*1000000:(i+1)*1000000, :], len(arms_idx), arms_idx.copy(), error_prob=c, threshold=0.05, bound_method='lil')\n",
    "        stops.append(stop)\n",
    "        u_lims.append(u_lim)\n",
    "        \n",
    "    stopping_times_1.append(stops)"
   ]
  },
  {
   "cell_type": "code",
   "execution_count": null,
   "id": "f0c1b3d2-22b2-432f-aabb-58d796cf0edc",
   "metadata": {},
   "outputs": [],
   "source": [
    "stopping_times_1 = np.array(stopping_times_1)"
   ]
  },
  {
   "cell_type": "code",
   "execution_count": null,
   "id": "183abf99-41fa-450f-8fbd-ccff34112bd1",
   "metadata": {},
   "outputs": [],
   "source": [
    "plt.errorbar(np.log10(conf), 2*np.mean(stopping_times_1, axis=0), yerr=2*np.std(stopping_times_1, axis=0), capsize=4)\n",
    "plt.grid()\n",
    "plt.grid(which='minor', ls=':', lw=0.5)\n",
    "plt.minorticks_on()\n",
    "plt.xlabel(\"Confidence ($\\delta$)\", labelpad=5, fontsize=13)\n",
    "plt.ylabel(\"Copy Complexity\", labelpad=5, fontsize=13)\n",
    "plt.title(\"Copy Complexity vs Confidence ($\\delta$)\")\n",
    "plt.show()"
   ]
  }
 ],
 "metadata": {
  "kernelspec": {
   "display_name": "Python 3 (ipykernel)",
   "language": "python",
   "name": "python3"
  },
  "language_info": {
   "codemirror_mode": {
    "name": "ipython",
    "version": 3
   },
   "file_extension": ".py",
   "mimetype": "text/x-python",
   "name": "python",
   "nbconvert_exporter": "python",
   "pygments_lexer": "ipython3",
   "version": "3.11.9"
  }
 },
 "nbformat": 4,
 "nbformat_minor": 5
}
