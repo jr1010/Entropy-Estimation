{
 "cells": [
  {
   "cell_type": "code",
   "execution_count": 7,
   "id": "49831971-055f-4a51-8758-c778c89c88c4",
   "metadata": {},
   "outputs": [],
   "source": [
    "import matplotlib.pyplot as plt\n",
    "import numpy as np\n",
    "%config InlineBackend.figure_format = 'svg'"
   ]
  },
  {
   "cell_type": "code",
   "execution_count": 8,
   "id": "22f9f2f8-a2dc-4cfb-9d90-76a80588d70d",
   "metadata": {},
   "outputs": [],
   "source": [
    "def generate_random_state(n):\n",
    "    random_states = np.random.uniform(0, 1, size=(n, 6)) + 1j*np.random.uniform(0, 1, size=(n, 6))\n",
    "    random_states = random_states/np.linalg.norm(random_states, axis=1).reshape(-1, 1)\n",
    "    return random_states\n",
    "\n",
    "def von_neumann_entropy(eigvals, dim=2):\n",
    "    res = 0\n",
    "    for eig in eigvals:\n",
    "        if eig == 0:\n",
    "            continue\n",
    "        res += eig*np.log2(1/eig)\n",
    "\n",
    "    return np.round(res, 3)"
   ]
  },
  {
   "cell_type": "code",
   "execution_count": 9,
   "id": "e64fd94e-0828-425d-9893-0558b2dc1f55",
   "metadata": {},
   "outputs": [],
   "source": [
    "state = generate_random_state(1000)"
   ]
  },
  {
   "cell_type": "code",
   "execution_count": 10,
   "id": "ad5a209c-cf8d-4104-b477-fec99eb56eef",
   "metadata": {},
   "outputs": [],
   "source": [
    "def partial_traces(state, dimA, dimB):\n",
    "    st = state.reshape(-1, 1)\n",
    "    density_m = st@np.conj(st.T)\n",
    "    # print(\"DENSITY MATRIX : \", density_m)\n",
    "    \n",
    "    density_A = np.zeros((dimA, dimA)).astype(np.complex128)\n",
    "    density_B = np.zeros((dimB, dimB)).astype(np.complex128)\n",
    "\n",
    "    for row in range(dimA):\n",
    "        for col in range(dimA):\n",
    "            density_A[row, col] = np.sum([density_m[dimB*row + i, dimB*col + i] for i in range(dimB)]) \n",
    "\n",
    "    for row in range(dimB):\n",
    "        for col in range(dimB):\n",
    "            density_B[row, col] = np.sum([density_m[row + i*dimB, col + i*dimB] for i in range(dimA)])\n",
    "\n",
    "    return (density_A, density_B) \n",
    "\n",
    "def tensor_prodcut(state):\n",
    "    n = len(state)\n",
    "    res = np.zeros(n*n).astype(np.complex128)\n",
    "\n",
    "    for idx, el in enumerate(state):\n",
    "        res[n*idx: n*(idx+1)] = el*state\n",
    "\n",
    "    return res"
   ]
  },
  {
   "cell_type": "code",
   "execution_count": 11,
   "id": "7a79fc54-d96f-4e51-b911-e46cf596389f",
   "metadata": {},
   "outputs": [],
   "source": [
    "pa, pb = partial_traces(state[0], 2, 3)"
   ]
  },
  {
   "cell_type": "code",
   "execution_count": 12,
   "id": "40914e63-0e3c-4798-ab30-ac08ba045cad",
   "metadata": {},
   "outputs": [
    {
     "data": {
      "text/plain": [
       "array([0.03992009+0.41268727j, 0.00461254+0.24675666j,\n",
       "       0.24169901+0.11376415j, 0.44036787+0.03531053j,\n",
       "       0.20486975+0.46861434j, 0.47798408+0.10302573j])"
      ]
     },
     "execution_count": 12,
     "metadata": {},
     "output_type": "execute_result"
    }
   ],
   "source": [
    "state[0]"
   ]
  },
  {
   "cell_type": "code",
   "execution_count": 15,
   "id": "7fe61727-669e-418d-b9eb-94d4832db2eb",
   "metadata": {},
   "outputs": [
    {
     "name": "stdout",
     "output_type": "stream",
     "text": [
      "[0.07435319 0.92564681]\n"
     ]
    }
   ],
   "source": [
    "print(np.linalg.eigvalsh(pa))"
   ]
  },
  {
   "cell_type": "code",
   "execution_count": 16,
   "id": "8c24cfc7-487e-4fad-8c6d-1e0d13801f5f",
   "metadata": {},
   "outputs": [
    {
     "name": "stdout",
     "output_type": "stream",
     "text": [
      "[7.32866149e-17 7.43531875e-02 9.25646813e-01]\n"
     ]
    }
   ],
   "source": [
    "print(np.linalg.eigvalsh(pb))"
   ]
  },
  {
   "cell_type": "code",
   "execution_count": 17,
   "id": "9403592b-41f5-44e4-a919-ff29aecb412e",
   "metadata": {},
   "outputs": [],
   "source": [
    "# tensor_prodcut(state[0])"
   ]
  },
  {
   "cell_type": "markdown",
   "id": "9e27c646-6ab6-4e1f-8ec3-43560822c50c",
   "metadata": {},
   "source": [
    "## Entanglement Entropy of qubit-qutrit pure states"
   ]
  },
  {
   "cell_type": "markdown",
   "id": "8ee41316-0839-4a0e-a290-53bb42323e6f",
   "metadata": {},
   "source": [
    "Let us lay down some definitions:\n",
    "\n",
    "Let $\\mathcal{H}_A$, $\\mathcal{H}_B$ be **Hilbert Spaces** where,\n",
    "\n",
    "$$ \\dim(\\mathcal{H}_A) = 2, \\quad \\dim(\\mathcal{H}_B) = 3 $$\n",
    "\n",
    "Let $\\ket{0}_A$, $\\ket{1}_A$ be the orthogonal basis states of $\\mathcal{H}_A$.\n",
    "Similarly $\\ket{0}_B$, $\\ket{1}_B$ and $\\ket{2}_B$ be the orthogonal states of $\\mathcal{H}_B$.\n",
    "\n",
    "\n",
    "We will now consider an arbitrary bipartite statevector,  $$\\ket{\\psi} = a\\ket{0}_A \\ket{0}_B + b\\ket{0}_A\\ket{1}_B + c\\ket{0}_A\\ket{2}_B + d\\ket{1}_A \\ket{0}_B + e \\ket{1}_A \\ket{1}_B + f \\ket{1}_A \\ket{2}_B $$\n",
    "$$ \\ket{\\psi} \\in \\mathcal{H}_A \\otimes \\mathcal{H}_B $$\n",
    "Correspondingly, \n",
    "\n",
    "$$  \\rho = \\ket{\\psi} \\bra{\\psi}, \\quad \\rho \\in \\mathcal{D}(\\mathcal{H}_A \\otimes \\mathcal{H}_B) $$\n",
    "\n",
    "The ***Entanglement Entropy*** of the state $\\ket{\\psi}$ is defined as:\n",
    "\n",
    "$$ \\mathcal{E}(\\rho) = \\mathcal{S}(\\rho_A) = \\mathcal{S}(\\rho_B) $$\n",
    "\n",
    "where $\\mathcal{S}$ is the *von Neumann Entropy* and $\\rho_A$, $\\rho_B$ are the reduced subsystems.\n",
    "\n",
    "From the **Schmidt Decomposition** we can conclude that ranks of the matrices $\\rho_A$ and $\\rho_B$ and have the same eigenvalues.\n",
    "\n",
    "From further simplification we find the eigenvalues to be,\n",
    "\n",
    "$\\lambda_\\pm  = \\dfrac{1 \\pm \\sqrt{1-4(|ae-bd|^2 + |af-cd|^2 + |bf-ce|^2)}}{2}$\n",
    "\n",
    "Let us call the parameter to be estimated as $\\beta$, then\n",
    "\n",
    "$$ \\lambda_\\pm = \\dfrac{1 \\pm \\sqrt{1 - 4\\beta}}{2}, \\quad 0\\leq \\beta \\leq \\frac{1}{4} $$\n"
   ]
  },
  {
   "cell_type": "markdown",
   "id": "3d514b57-635c-4218-ac59-7c1fa9ce6844",
   "metadata": {},
   "source": [
    "### UNITARY OPERATOR DEFINITION\n",
    "\n",
    "\n",
    "States of interest : \n",
    "\n",
    "$$ ae : \\left(\\ket{0}_A \\ket{0}_B \\ket{1}_A \\ket{1}_B \\quad \\ket{1}_A \\ket{1}_B \\ket{0}_A \\ket{0}_B \\right), \\quad bd : (\\ket{0}_A \\ket{1}_B \\ket{1}_A \\ket{0}_B \\quad \\ket{1}_A \\ket{0}_B \\ket{0}_A \\ket{1}_B) \\implies |ae-bd|^2$$\n",
    "$$ af : (\\ket{0}_A \\ket{0}_B \\ket{1}_A \\ket{2}_B \\quad \\ket{1}_A \\ket{2}_B \\ket{0}_A \\ket{0}_B), \\quad cd : (\\ket{0}_A \\ket{2}_B \\ket{1}_A \\ket{0}_B \\quad \\ket{1}_A \\ket{0}_B \\ket{0}_A \\ket{2}_B) \\implies |af-cd|^2$$\n",
    "$$ bf : (\\ket{0}_A \\ket{1}_B \\ket{1}_A \\ket{2}_B \\quad \\ket{1}_A \\ket{2}_B \\ket{0}_A \\ket{1}_B), \\quad ce : (\\ket{0}_A \\ket{2}_B \\ket{1}_A \\ket{1}_B) \\quad \\ket{1}_A \\ket{1}_B \\ket{0}_A \\ket{2}_B) \\implies |bf-ce|^2$$\n",
    "\n",
    "### LOCC \n",
    "\n",
    "We will now define a LOCC Protcol for the by measuring the qutrit subsystem and apply local unitary operations depending upon the measured outcome\n",
    "\n",
    "We propose a of local 2-qubit unitary, that would be used based upon measurement outcomes.\n",
    "\n",
    "$$ U (\\ket{01}) \\rightarrow \\frac{1}{\\sqrt{2}} ( \\ket{01} - \\ket{10}) $$\n",
    "\n",
    "$$ U (\\ket{10}) \\rightarrow \\frac{1}{\\sqrt{2}} ( \\ket{10} + \\ket{01}) $$\n",
    "\n",
    "We measure Bob's pairs of qubits $q_{B1}$ and $q_{B2}$.\n",
    "\n",
    "If $q_{B1} + q_{B2} = 1$, or $(q_{B1}, q_{B2}) = (0, 2)$ or $(q_{B1}, q_{B2}) = (2, 0)$ or $q_{B1} + q_{B2} = 3$, we perform the local unitary operation on Alice's pair of qubits\n",
    "\n",
    "Finally, we measure the relative frequencies of observing either of the following states:\n",
    "\n",
    "$$ \\ket{1}_A \\ket{1}_B \\ket{0}_A \\ket{0}_B, \\quad \\ket{1}_A \\ket{0}_B \\ket{0}_A \\ket{1}_B \\implies |ae-bd|^2$$\n",
    "$$ \\ket{1}_A \\ket{2}_B \\ket{0}_A \\ket{0}_B, \\quad \\ket{1}_A \\ket{0}_B \\ket{0}_A \\ket{2}_B \\implies |af-cd|^2$$\n",
    "$$ \\ket{1}_A \\ket{2}_B \\ket{0}_A \\ket{1}_B, \\quad \\ket{1}_A \\ket{1}_B \\ket{0}_A \\ket{2}_B \\implies |bf-ce|^2$$\n",
    "\n",
    "By doing so, we obtain the estimate $\\hat{\\beta}$\n"
   ]
  },
  {
   "cell_type": "code",
   "execution_count": null,
   "id": "89105fe7-fc77-42de-8035-fb6cd6e4a6a7",
   "metadata": {},
   "outputs": [],
   "source": []
  }
 ],
 "metadata": {
  "kernelspec": {
   "display_name": "Python 3 (ipykernel)",
   "language": "python",
   "name": "python3"
  },
  "language_info": {
   "codemirror_mode": {
    "name": "ipython",
    "version": 3
   },
   "file_extension": ".py",
   "mimetype": "text/x-python",
   "name": "python",
   "nbconvert_exporter": "python",
   "pygments_lexer": "ipython3",
   "version": "3.11.9"
  }
 },
 "nbformat": 4,
 "nbformat_minor": 5
}
